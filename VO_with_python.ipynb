{
  "cells": [
    {
      "cell_type": "markdown",
      "metadata": {
        "id": "view-in-github",
        "colab_type": "text"
      },
      "source": [
        "<a href=\"https://colab.research.google.com/github/WilliamCori/I-Escuela-Latam-Observatorio-Virtual-SVO-2023/blob/main/VO_with_python.ipynb\" target=\"_parent\"><img src=\"https://colab.research.google.com/assets/colab-badge.svg\" alt=\"Open In Colab\"/></a>"
      ]
    },
    {
      "cell_type": "markdown",
      "id": "warming-figure",
      "metadata": {
        "id": "warming-figure"
      },
      "source": [
        "<h1><center> VO with Python: working with PyVO and MOCPy </center></h1>\n",
        "\n",
        "Created by\n",
        "\n",
        "**Pedro Mas Buitrago, [SVO](https://svo.cab.inta-csic.es/main/index.php)**\n",
        "\n",
        "**Last updated** by the author in March 2023\n",
        "\n",
        "This tutorial has taken some references from the adaptation of \"[Advanced usage of HiPS and MOCs to explore complex regions of interest](https://github.com/cds-astro/tutorials/tree/master/Notebooks)\" to jupyter notebook by the Strasbourg astronomical Data Center ([CDS](https://cdsweb.u-strasbg.fr/)) team.\n",
        "\n",
        "For the tutorial to work correctly, the user must upload [these data files](https://cloud.cab.inta-csic.es/index.php/s/YggXCpJp6wHkJ5B) in their own Google Colab session. To do this, click on the \"Files\" icon on the left side of the page, select the \"Upload to session storage\" option (first icon in the pop-up menu) and upload the files from the local directory.\n",
        "\n",
        "---"
      ]
    },
    {
      "cell_type": "markdown",
      "source": [
        "<h2><center> Technical background </center></h2>\n",
        "\n",
        "The Multi-Order Coverage map (**MOC**) is a Virtual Observatory method created to specify any kind of sky region in a simple and efficient way. As mentioned in the [reference document](https://www.ivoa.net/documents/MOC/20220727/REC-moc-2.0-20220727.pdf), the rationale behind MOC is to get a method to manipulate sky coverages in order to provide very fast union, intersection and equality operations between them.\n",
        "\n",
        "The MOC method is based on the [HEALPix](https://iopscience.iop.org/article/10.1086/427976) tesselation technique, a method of partitioning the sphere that consists of diamond cells with equal spherical surfaces. The HEALPix tessellation technique divides the sphere into 12 cells, each of them sub-divided into 4 cells recursively (see Fig. 1). Thus the sphere at order 1 will consist of 48 cells, 192 cells at order 2, 768 at order 3 and so on where each cell at a given order is covering an equal area of the sphere."
      ],
      "metadata": {
        "id": "3Nk3LqFWmToK"
      },
      "id": "3Nk3LqFWmToK"
    },
    {
      "cell_type": "code",
      "source": [
        "from IPython.display import Image\n",
        "Image('healpix.png',width=950, height=250)"
      ],
      "metadata": {
        "id": "opR9ql_Ar9Vc"
      },
      "id": "opR9ql_Ar9Vc",
      "execution_count": null,
      "outputs": []
    },
    {
      "cell_type": "markdown",
      "source": [
        "<center> Fig. 1: HEALPix partition of the sphere. The corresponding HEALPix order is 0, 1, 2 and 3, from left to right.  </center>"
      ],
      "metadata": {
        "id": "rHQVGvLTsQj3"
      },
      "id": "rHQVGvLTsQj3"
    },
    {
      "cell_type": "markdown",
      "source": [
        "---"
      ],
      "metadata": {
        "id": "OctJ8KOXlmmf"
      },
      "id": "OctJ8KOXlmmf"
    },
    {
      "cell_type": "markdown",
      "id": "paperback-designation",
      "metadata": {
        "id": "paperback-designation"
      },
      "source": [
        "<h2><center> Before we get started </center></h2>\n",
        "\n",
        "This is a hands-on tutorial demonstrating the usage of PyVO and MOCPy, two products for accessing the VO from Python, in which we will:\n",
        "\n",
        "1. Learn to access astronomical data using PyVO\n",
        "2. Work with Multi-Order Coverage (MOC) maps from different surveys using MOCPy\n",
        "3. See how the use of MOCs can benefit a real scientific case\n",
        "4. Retrieve objects from large catalogs using a specific MOC\n",
        "\n",
        "We will use the python packages included in the file `requirements.txt`. The python packages include [MOCPy](https://github.com/cds-astro/mocpy), [astroquery](https://astroquery.readthedocs.io/en/latest/), [PyVO](https://pyvo.readthedocs.io/en/latest/), [astropy](https://docs.astropy.org/en/stable/index.html), [pandas](https://pandas.pydata.org/docs/), [numpy](https://numpy.org/doc/stable/) and [matplotlib](https://matplotlib.org/stable/index.html).\n",
        "\n",
        "To install these packages:"
      ]
    },
    {
      "cell_type": "code",
      "execution_count": null,
      "id": "experienced-discrimination",
      "metadata": {
        "id": "experienced-discrimination"
      },
      "outputs": [],
      "source": [
        "! pip install -r /content/requirements.txt"
      ]
    },
    {
      "cell_type": "markdown",
      "id": "cleared-pointer",
      "metadata": {
        "id": "cleared-pointer"
      },
      "source": [
        "First of all, we will import these packages!"
      ]
    },
    {
      "cell_type": "code",
      "execution_count": null,
      "id": "vital-bouquet",
      "metadata": {
        "id": "vital-bouquet"
      },
      "outputs": [],
      "source": [
        "import warnings\n",
        "import pandas as pd\n",
        "import numpy as np\n",
        "import pyvo\n",
        "import matplotlib.pyplot as plt\n",
        "from mocpy import MOC, World2ScreenMPL\n",
        "\n",
        "from astropy.coordinates import Angle, SkyCoord\n",
        "import astropy.units as u\n",
        "from astroquery.vizier import Vizier\n",
        "import plotly.express as px"
      ]
    },
    {
      "cell_type": "markdown",
      "id": "silent-perception",
      "metadata": {
        "id": "silent-perception"
      },
      "source": [
        "We will also make use of the [VizieR](https://vizier.cds.unistra.fr/viz-bin/VizieR) service at [CDS](https://cdsweb.u-strasbg.fr/), which allows you to look for astronomical catalogues that have been published in the literature. Some of these catalogs contain data, associated with the publications, that can be consulted through the VizieR-associated data service."
      ]
    },
    {
      "cell_type": "markdown",
      "id": "intended-museum",
      "metadata": {
        "id": "intended-museum"
      },
      "source": [
        "---"
      ]
    },
    {
      "cell_type": "markdown",
      "id": "adolescent-sharing",
      "metadata": {
        "id": "adolescent-sharing"
      },
      "source": [
        "<h2><center> Accesing data with PyVO </center></h2>\n",
        "\n",
        "`PyVO` is an affiliated package for the `astropy` package that lets you find and retrieve astronomical data available from archives that support standard IVOA virtual observatory service protocols. In this section, we will explore the Table Access Protocol ([TAP](https://www.ivoa.net/documents/TAP/20190927/REC-TAP-1.1.pdf)), which allows access to source catalogs using [ADQL](http://docs.g-vo.org/adql/html/index.html) queries.\n",
        "\n",
        "All TAP services must support a set of tables in a schema named TAP_SCHEMA that describes the tables and columns included in the service. In particular, the table TAP_SCHEMA.tables must contain the following columns:\n",
        "\n",
        "<center>\n",
        "\n",
        "| Column name | Type | not-null |\n",
        "| :-: | :-: | :-: |\n",
        "| schema_name | string | true |\n",
        "| table_name | string | true |\n",
        "| table_type | string | true |\n",
        "| utype | string | false |\n",
        "| description | string | false |\n",
        "| table_index | integer | false |\n",
        "\n",
        "</center>\n",
        "\n",
        "In our case, we will use PyVO to retrieve data from the Gaia data release 3. To search for Gaia data, we will use the TAP with the Gaia endpoint. First, let's see which schemas (and information) are available in the gaia database."
      ]
    },
    {
      "cell_type": "code",
      "execution_count": null,
      "id": "concrete-malawi",
      "metadata": {
        "scrolled": false,
        "id": "concrete-malawi",
        "collapsed": true
      },
      "outputs": [],
      "source": [
        "tap_gaia = pyvo.dal.TAPService(\"https://gea.esac.esa.int/tap-server/tap\")\n",
        "\n",
        "query = '''\n",
        "SELECT DISTINCT schema_name, table_type\n",
        "FROM tap_schema.tables\n",
        "'''\n",
        "\n",
        "gaia_info = tap_gaia.search(query).to_table()\n",
        "\n",
        "gaia_info"
      ]
    },
    {
      "cell_type": "markdown",
      "id": "appreciated-board",
      "metadata": {
        "id": "appreciated-board"
      },
      "source": [
        "> In a database, a **View** is a virtual table whose content is defined by a query to one or more tables. The main advantage of a view is that it can join data from several tables, avoiding repeating complex queries."
      ]
    },
    {
      "cell_type": "markdown",
      "id": "responsible-rebound",
      "metadata": {
        "id": "responsible-rebound"
      },
      "source": [
        "For this tutorial, we are interested in the tables from the schema `gaiadr3` containing the information about the observed sources, so we search for them:"
      ]
    },
    {
      "cell_type": "code",
      "execution_count": null,
      "id": "solved-integer",
      "metadata": {
        "id": "solved-integer",
        "collapsed": true
      },
      "outputs": [],
      "source": [
        "tap_gaia = pyvo.dal.TAPService(\"https://gea.esac.esa.int/tap-server/tap\")\n",
        "\n",
        "query = '''\n",
        "SELECT *\n",
        "FROM tap_schema.tables\n",
        "WHERE schema_name = 'gaiadr3'\n",
        "AND table_name LIKE '%source%'\n",
        "AND table_type = 'table'\n",
        "'''\n",
        "\n",
        "gaia_info = tap_gaia.search(query).to_table()\n",
        "gaia_info"
      ]
    },
    {
      "cell_type": "markdown",
      "id": "returning-thanks",
      "metadata": {
        "id": "returning-thanks"
      },
      "source": [
        "As you can see in the description, the table we are looking for is `gaiadr3.gaia_source`. As a practical example, let's search for Pleiades-comoving objects with reliable parallax and proper motion (relative error less than 10$\\%$)."
      ]
    },
    {
      "cell_type": "code",
      "execution_count": null,
      "id": "illegal-freeware",
      "metadata": {
        "id": "illegal-freeware",
        "collapsed": true
      },
      "outputs": [],
      "source": [
        "query = '''\n",
        "SELECT TOP 40000 *\n",
        "FROM gaiadr3.gaia_source\n",
        "WHERE ABS(pmra_error/pmra) < 0.1\n",
        "AND ABS(pmdec_error/pmdec) < 0.1\n",
        "AND pm < 100\n",
        "AND parallax_over_error > 10\n",
        "AND 1=CONTAINS(\n",
        "  POINT(ra,dec),\n",
        "  CIRCLE(56.601,24.114,5))\n",
        "'''\n",
        "\n",
        "gaia_data = tap_gaia.search(query)\n",
        "\n",
        "gaia_data.to_table()"
      ]
    },
    {
      "cell_type": "markdown",
      "id": "transparent-innocent",
      "metadata": {
        "id": "transparent-innocent"
      },
      "source": [
        "With the attribute `fieldnames`, we can check the fields included in the output table:"
      ]
    },
    {
      "cell_type": "code",
      "execution_count": null,
      "id": "junior-hawaiian",
      "metadata": {
        "scrolled": true,
        "id": "junior-hawaiian",
        "collapsed": true
      },
      "outputs": [],
      "source": [
        "gaia_data.fieldnames"
      ]
    },
    {
      "cell_type": "markdown",
      "id": "spare-paint",
      "metadata": {
        "id": "spare-paint"
      },
      "source": [
        "Rich metadata equivalent to what is found in VOTables (including unit, ucd and datatype) is available through resultset’s `getdesc()` method.\n",
        "\n",
        "> In a VOTable, the attribute **ucd** stands for Unified Content Descriptor, and supplies a standardized classification of the physical quantity expressed in the column. "
      ]
    },
    {
      "cell_type": "code",
      "execution_count": null,
      "id": "matched-feeding",
      "metadata": {
        "id": "matched-feeding",
        "collapsed": true
      },
      "outputs": [],
      "source": [
        "gaia_data.getdesc('parallax')"
      ]
    },
    {
      "cell_type": "markdown",
      "id": "eligible-meter",
      "metadata": {
        "id": "eligible-meter"
      },
      "source": [
        "Now that we can build the proper motion diagram to locate the comoving sources.\n",
        "\n",
        "For a proper manipulation of the data, it is useful to create a pandas dataframe with the information required. In this cell, we will see how we can create this dataframe from the information contained in the output table."
      ]
    },
    {
      "cell_type": "code",
      "execution_count": null,
      "id": "wound-williams",
      "metadata": {
        "id": "wound-williams",
        "collapsed": true
      },
      "outputs": [],
      "source": [
        "col_names = ['source_id','ra','dec','pmra','pmdec','pm']\n",
        "data_list = []\n",
        "\n",
        "for col in col_names:\n",
        "    \n",
        "    obj = gaia_data[col]\n",
        "    \n",
        "    x_ = obj.data.reshape(len(obj),1)\n",
        "    \n",
        "    data_list.append(x_)\n",
        "        \n",
        "gaia_data_df = pd.DataFrame(np.concatenate(data_list,axis=1),columns=col_names)\n",
        "gaia_data_df['source_id'] = gaia_data_df['source_id'].astype(int)\n",
        "\n",
        "gaia_data_df"
      ]
    },
    {
      "cell_type": "code",
      "source": [
        "fig = px.scatter(gaia_data,x='pmra',y='pmdec',template='none',color_discrete_sequence=['darkred'],width=800, height=600)\n",
        "fig.update_traces(marker=dict(size=5,\n",
        "                              color='rgba(164, 0, 0,0.35)'))\n",
        "\n",
        "fig.show()"
      ],
      "metadata": {
        "id": "gYSqKAndNE0r",
        "collapsed": true
      },
      "id": "gYSqKAndNE0r",
      "execution_count": null,
      "outputs": []
    },
    {
      "cell_type": "markdown",
      "id": "administrative-somalia",
      "metadata": {
        "id": "administrative-somalia"
      },
      "source": [
        "---"
      ]
    },
    {
      "cell_type": "markdown",
      "id": "detected-faculty",
      "metadata": {
        "id": "detected-faculty"
      },
      "source": [
        "<center><h2> Working with MOCs in Python </h2></center>\n",
        "\n",
        "MOCPy is a Python library that allows the manipulation of Multi-Order Coverage maps (MOCs) in a straightforward way. It is possible to load the MOCs from different sources, such as FITS files, urls or VizieR tables. Some powerful tasks that we can perform thanks to MOCPY is to compare the sky coverage of different surveys or to compute the union/intersection between them.\n",
        "\n",
        "In this section we will explore both. First, we will see how the sky coverage of the Sloan Digital Sky Survey, [SDSS](https://www.sdss.org/), has changed over the years. Then, we will compute the union and intersection between the sky coverage of the SDSS data release 16 and the second data release of the [J-PLUS](http://www.j-plus.es/datareleases/data_release_dr2) survey.\n",
        "\n",
        "First, we need to search for the VizieR tables that store the data corresponding to the data releases 3, 6 and 16 of SDSS. One way to search for the SDSS catalogues available on VizieR is to use the `Vizier` module in the `astroquery` package."
      ]
    },
    {
      "cell_type": "code",
      "execution_count": null,
      "id": "mexican-bradley",
      "metadata": {
        "id": "mexican-bradley",
        "collapsed": true
      },
      "outputs": [],
      "source": [
        "catalog_list = Vizier.find_catalogs('SDSS DR3')\n",
        "for k, v in catalog_list.items():\n",
        "    print(k, ': ', v.description)"
      ]
    },
    {
      "cell_type": "markdown",
      "id": "indie-secondary",
      "metadata": {
        "id": "indie-secondary"
      },
      "source": [
        "The catalog we are looking for is `II/259 :  The SDSS Photometric Catalog, Release 3 (Abazajian+ 2005)`. To see the tables included in this catalog, we can use the `get_catalogs()` method:"
      ]
    },
    {
      "cell_type": "code",
      "execution_count": null,
      "id": "graphic-village",
      "metadata": {
        "id": "graphic-village",
        "collapsed": true
      },
      "outputs": [],
      "source": [
        "table_list = Vizier.get_catalogs('II/259')\n",
        "\n",
        "table_list"
      ]
    },
    {
      "cell_type": "markdown",
      "id": "upset-printing",
      "metadata": {
        "id": "upset-printing"
      },
      "source": [
        "***Exercise 1:*** *Find the corresponding tables for the remaining SDSS data releases, SDSS DR6 and SDSS DR16.*\n",
        "\n"
      ]
    },
    {
      "cell_type": "code",
      "source": [
        "#@title\n",
        "catalog_list = Vizier.find_catalogs('SDSS DR6')\n",
        "for k, v in catalog_list.items():\n",
        "    print(k, ': ', v.description)\n",
        "\n",
        "warnings.filterwarnings('ignore')"
      ],
      "metadata": {
        "cellView": "form",
        "id": "iCWuPHtvuvUe",
        "collapsed": true
      },
      "id": "iCWuPHtvuvUe",
      "execution_count": null,
      "outputs": []
    },
    {
      "cell_type": "code",
      "source": [
        "#@title\n",
        "table_list = Vizier.get_catalogs('II/282')\n",
        "\n",
        "table_list"
      ],
      "metadata": {
        "cellView": "form",
        "id": "l6w-qmrhvMsA",
        "collapsed": true
      },
      "id": "l6w-qmrhvMsA",
      "execution_count": null,
      "outputs": []
    },
    {
      "cell_type": "code",
      "source": [
        "#@title\n",
        "catalog_list = Vizier.find_catalogs('SDSS DR16')\n",
        "for k, v in catalog_list.items():\n",
        "    print(k, ': ', v.description)\n",
        "\n",
        "warnings.filterwarnings('ignore')"
      ],
      "metadata": {
        "cellView": "form",
        "id": "zrw-ps94vMzB",
        "collapsed": true
      },
      "id": "zrw-ps94vMzB",
      "execution_count": null,
      "outputs": []
    },
    {
      "cell_type": "code",
      "source": [
        "#@title\n",
        "table_list = Vizier.get_catalogs('V/154')\n",
        "\n",
        "table_list"
      ],
      "metadata": {
        "cellView": "form",
        "id": "RVdbN9LwvM1f",
        "collapsed": true
      },
      "id": "RVdbN9LwvM1f",
      "execution_count": null,
      "outputs": []
    },
    {
      "cell_type": "markdown",
      "id": "interesting-photograph",
      "metadata": {
        "id": "interesting-photograph"
      },
      "source": [
        "The tables we need are `II/259/sdss3`, `II/282/sdss6` and `V/154/sdss16`. Now, we load the MOCs for the different SDSS data releases using these tables."
      ]
    },
    {
      "cell_type": "code",
      "execution_count": null,
      "id": "spiritual-scheme",
      "metadata": {
        "id": "spiritual-scheme"
      },
      "outputs": [],
      "source": [
        "moc_sdssdr3 = MOC.from_vizier_table('II/259/sdss3')\n",
        "moc_sdssdr6 = MOC.from_vizier_table('II/282/sdss6')\n",
        "moc_sdssdr16 = MOC.from_vizier_table('V/154/sdss16')"
      ]
    },
    {
      "cell_type": "markdown",
      "id": "fitted-chemistry",
      "metadata": {
        "id": "fitted-chemistry"
      },
      "source": [
        "To plot the MOCs, we first need to use the `World2ScreenMPL` MOCPy class to create the astropy Word Coordinate System (WCS) that represents the field of view of the figure, as explained in the [MOCPy](https://cds-astro.github.io/mocpy/examples/examples.html) documentation.\n",
        "\n",
        "> World Coordinate Systems (WCSs) describe the geometric transformations between one set of coordinates and another. A common application is to map the pixels in an image onto the celestial sphere."
      ]
    },
    {
      "cell_type": "code",
      "execution_count": null,
      "id": "judicial-therapist",
      "metadata": {
        "id": "judicial-therapist",
        "collapsed": true
      },
      "outputs": [],
      "source": [
        "fig = plt.figure(111,figsize=(15,9))\n",
        "\n",
        "with World2ScreenMPL(fig,\n",
        "                    fov = 340*u.deg,\n",
        "                    center=SkyCoord(0,0,unit='deg',frame='icrs'),\n",
        "                    coordsys='icrs', rotation=Angle(0, u.degree),\n",
        "                    projection='AIT') as wcs:\n",
        "    \n",
        "    ax = fig.add_subplot(1,1,1,projection=wcs)\n",
        "\n",
        "    moc_sdssdr16.fill(ax=ax, wcs=wcs, alpha=0.15, fill=True,color='#003f5c', label= 'SDSS DR16 (2020)')\n",
        "    moc_sdssdr16.border(ax=ax, wcs=wcs, alpha=0.4, color='#003f5c')   \n",
        "    \n",
        "    moc_sdssdr6.fill(ax=ax, wcs=wcs, alpha=0.4, fill=True, color='#ffa600', label='SDSS DR6 (2007)')\n",
        "    moc_sdssdr6.border(ax=ax, wcs=wcs, alpha=0.6, color='#ffa600')\n",
        "    \n",
        "    moc_sdssdr3.border(ax=ax, wcs=wcs, color='#a05195', lw=2, label='SDSS DR3 (2005)')\n",
        "\n",
        "ax.legend(fontsize=12)\n",
        "plt.grid(color='black', linestyle='dotted')\n",
        "\n",
        "plt.show()"
      ]
    },
    {
      "cell_type": "markdown",
      "id": "enabling-joint",
      "metadata": {
        "id": "enabling-joint"
      },
      "source": [
        "Now, we will plot the intersection of SDSS DR16 and J-PLUS DR2. For the latter, we will load the MOC from the corresponding FITS file, and then compute the intersection between both using the `intersection` MOCPy method."
      ]
    },
    {
      "cell_type": "code",
      "execution_count": null,
      "id": "coordinate-indianapolis",
      "metadata": {
        "id": "coordinate-indianapolis",
        "collapsed": true
      },
      "outputs": [],
      "source": [
        "moc_jplusdr2 = MOC.from_fits(\"/content/jplus_dr2_moc.fits\")"
      ]
    },
    {
      "cell_type": "markdown",
      "source": [
        "***Exercise 2:*** *Plot the J-PLUS DR2 MOC.*"
      ],
      "metadata": {
        "id": "4k3rsplKlBvE"
      },
      "id": "4k3rsplKlBvE"
    },
    {
      "cell_type": "code",
      "source": [
        "#@title\n",
        "fig = plt.figure(111,figsize=(15,9))\n",
        "\n",
        "with World2ScreenMPL(fig,\n",
        "                    fov = 340*u.deg,\n",
        "                    center=SkyCoord(0,0,unit='deg',frame='icrs'),\n",
        "                    coordsys='icrs',rotation=Angle(0, u.degree),\n",
        "                    projection='AIT') as wcs:\n",
        "    \n",
        "    ax = fig.add_subplot(1,1,1,projection=wcs)\n",
        "    \n",
        "    moc_jplusdr2.fill(ax=ax, wcs=wcs, alpha=0.5, fill=True,color='#ffa600')\n",
        "    moc_jplusdr2.border(ax=ax, wcs=wcs, alpha=0.8,color='#ffa600')\n",
        "\n",
        "ax.set_xlabel('RA',fontsize=16)\n",
        "ax.set_ylabel('DEC',fontsize=16)\n",
        "plt.title('J-PLUS DR2 sky coverage',fontsize=14)\n",
        "plt.grid(color='black',linestyle='dotted')\n",
        "\n",
        "plt.show()"
      ],
      "metadata": {
        "cellView": "form",
        "id": "pGDxiAcPyo8U",
        "collapsed": true
      },
      "id": "pGDxiAcPyo8U",
      "execution_count": null,
      "outputs": []
    },
    {
      "cell_type": "code",
      "source": [
        "inter = moc_sdssdr16.intersection(moc_jplusdr2)"
      ],
      "metadata": {
        "id": "ky02e6etynP1"
      },
      "id": "ky02e6etynP1",
      "execution_count": null,
      "outputs": []
    },
    {
      "cell_type": "code",
      "execution_count": null,
      "id": "junior-civilization",
      "metadata": {
        "id": "junior-civilization",
        "collapsed": true
      },
      "outputs": [],
      "source": [
        "fig = plt.figure(111,figsize=(15,9))\n",
        "\n",
        "with World2ScreenMPL(fig,\n",
        "                    fov = 260*u.deg,\n",
        "                    center=SkyCoord(0,0,unit='deg',frame='icrs'),\n",
        "                    coordsys='icrs',rotation=Angle(0, u.degree),\n",
        "                    projection='AIT') as wcs:\n",
        "    \n",
        "    ax = fig.add_subplot(1,1,1,projection=wcs)\n",
        "    \n",
        "    inter.fill(ax=ax, wcs=wcs, alpha=0.5, fill=True,color='#003f5c')\n",
        "    inter.border(ax=ax, wcs=wcs, alpha=0.8,color='#003f5c')      \n",
        "\n",
        "ax.set_xlabel('RA',fontsize=16)\n",
        "ax.set_ylabel('DEC',fontsize=16)\n",
        "plt.title('Intersection between SDSS DR16 and J-PLUS DR2',fontsize=14)\n",
        "plt.grid(color='black',linestyle='dotted')\n",
        "\n",
        "plt.show()"
      ]
    },
    {
      "cell_type": "markdown",
      "id": "premium-seminar",
      "metadata": {
        "id": "premium-seminar"
      },
      "source": [
        "***Exercise 3:*** *Compute and plot the union between SDSS DR16 and J-PLUS DR2*"
      ]
    },
    {
      "cell_type": "code",
      "execution_count": null,
      "id": "removed-beauty",
      "metadata": {
        "id": "removed-beauty",
        "collapsed": true
      },
      "outputs": [],
      "source": [
        "#@title\n",
        "union = moc_sdssdr16.union(moc_jplusdr2)\n",
        "\n",
        "fig = plt.figure(111,figsize=(15,9))\n",
        "\n",
        "with World2ScreenMPL(fig,\n",
        "                    fov = 260*u.deg,\n",
        "                    center=SkyCoord(0,0,unit='deg',frame='icrs'),\n",
        "                    coordsys='icrs',rotation=Angle(0, u.degree),\n",
        "                    projection='AIT') as wcs:\n",
        "    \n",
        "    ax = fig.add_subplot(1,1,1,projection=wcs)\n",
        "    \n",
        "    union.fill(ax=ax, wcs=wcs, alpha=0.5, fill=True,color='#ffa600')\n",
        "    union.border(ax=ax, wcs=wcs, alpha=0.8,color='#ffa600')      \n",
        "\n",
        "ax.set_xlabel('RA',fontsize=16)\n",
        "ax.set_ylabel('DEC',fontsize=16)\n",
        "plt.title('Union between SDSS DR16 and J-PLUS DR2',fontsize=14)\n",
        "plt.grid(color='black',linestyle='dotted')\n",
        "\n",
        "plt.show()\n",
        "\n",
        "warnings.filterwarnings(\"ignore\", category=DeprecationWarning)"
      ]
    },
    {
      "cell_type": "markdown",
      "id": "rapid-geography",
      "metadata": {
        "id": "rapid-geography"
      },
      "source": [
        "---"
      ]
    },
    {
      "cell_type": "markdown",
      "id": "killing-crazy",
      "metadata": {
        "id": "killing-crazy"
      },
      "source": [
        "<h2><center> Real scientific case with MOCs </center></h2>\n",
        "\n",
        "In this section, we will explore a real example in with the use of MOCs contributed to refine the scientific results of a [paper](https://arxiv.org/abs/2208.09377). For this, we will use the data from the [SVO archive of ultracool dwarfs identified in J-PLUS DR2](http://svocats.cab.inta-csic.es/jplus_ucds1/index.php?action=search), which contains information for the 9.810 candidate ultracool dwarfs identified using Virtual Observatory tools in the entire sky coverage of J-PLUS DR2.\n",
        "\n",
        "In astronomy, when working with photometry from different surveys, you have to be sure that the photometry coming from each of them for the same filters/wavelengths is equivalent. This becomes very important when, for example, you are using the photometry of the stars to infer physical parameters such as the effective temperature. In our particular case, the use of the SDSS and J-PLUS DR2 MOCs allowed us to see that there was a significant difference between the density of objects identified in the regions where both MOCs overlapped and in regions where they did not. Looking further into this, we found a systematic difference between the photometry in SDSS and J-PLUS DR2 for the same filters that had to be corrected.\n",
        "\n",
        "To reproduce this case, we will only need the coordinates of the objects, that are included in the file `UCD_data.csv`."
      ]
    },
    {
      "cell_type": "code",
      "execution_count": null,
      "id": "requested-gates",
      "metadata": {
        "id": "requested-gates",
        "collapsed": true
      },
      "outputs": [],
      "source": [
        "data = pd.read_csv('UCD_data.csv')\n",
        "\n",
        "data"
      ]
    },
    {
      "cell_type": "markdown",
      "id": "behavioral-driving",
      "metadata": {
        "id": "behavioral-driving"
      },
      "source": [
        "When working with celestial coordinates, it is good practice to define them using the `SkyCoord` class of the `astropy` package, which provides a flexible interface for celestial coordinate representation, manipulation, and transformation between systems."
      ]
    },
    {
      "cell_type": "code",
      "execution_count": null,
      "id": "wanted-mambo",
      "metadata": {
        "id": "wanted-mambo",
        "collapsed": true
      },
      "outputs": [],
      "source": [
        "coords = SkyCoord(data[['RA','DEC']].values,frame='icrs',unit='deg')\n",
        "coords"
      ]
    },
    {
      "cell_type": "markdown",
      "id": "tough-gathering",
      "metadata": {
        "id": "tough-gathering"
      },
      "source": [
        "We now plot the corresponding MOCs, including our objects in top of them."
      ]
    },
    {
      "cell_type": "code",
      "execution_count": null,
      "id": "experimental-shaft",
      "metadata": {
        "id": "experimental-shaft",
        "collapsed": true
      },
      "outputs": [],
      "source": [
        "fig = plt.figure(111, figsize=(15,9))\n",
        "\n",
        "with World2ScreenMPL(fig, \n",
        "        fov=260* u.deg,\n",
        "        center=SkyCoord(0, 0, unit='deg', frame='icrs'),\n",
        "        coordsys=\"icrs\",\n",
        "        rotation=Angle(0, u.degree),\n",
        "        projection=\"AIT\") as wcs:\n",
        "    \n",
        "    ax = fig.add_subplot(1, 1, 1, projection=wcs)\n",
        "    \n",
        "    moc_sdssdr16.fill(ax=ax, wcs=wcs, alpha=0.15, fill=True, color='#003f5c',label='SDSS DR16')\n",
        "    moc_sdssdr16.border(ax=ax, wcs=wcs, alpha=0.4, color='#003f5c')\n",
        "    \n",
        "    moc_jplusdr2.fill(ax=ax, wcs=wcs, alpha=0.4, fill=True, color=\"#ffa600\",label='J-PLUS DR2')\n",
        "    moc_jplusdr2.border(ax=ax, wcs=wcs, alpha=0.6, color=\"#ffa600\")\n",
        "    \n",
        "    ax.scatter(coords.ra,coords.dec,marker='o',color='#003f5c',s=0.3,transform=ax.get_transform('world'))\n",
        "\n",
        "ax.legend(fontsize=15)\n",
        "ax.set_xlabel('RA',fontsize=16)\n",
        "ax.set_ylabel('DEC',fontsize=16)\n",
        "plt.grid(color=\"black\", ls='dotted')\n",
        "\n",
        "plt.show()"
      ]
    },
    {
      "cell_type": "markdown",
      "id": "modified-police",
      "metadata": {
        "id": "modified-police"
      },
      "source": [
        "Zooming into a region where both MOCs overlap, we can check whether the density of objects is the same as in the non-overlapping regions."
      ]
    },
    {
      "cell_type": "code",
      "execution_count": null,
      "id": "controlling-jaguar",
      "metadata": {
        "id": "controlling-jaguar",
        "collapsed": true
      },
      "outputs": [],
      "source": [
        "fig = plt.figure(111, figsize=(15,11))\n",
        "\n",
        "with World2ScreenMPL(fig, \n",
        "        fov=30 * u.deg,\n",
        "        center=SkyCoord(273,41, unit='deg', frame='icrs'),\n",
        "        coordsys=\"icrs\",\n",
        "        rotation=Angle(0, u.degree),\n",
        "        projection=\"AIT\") as wcs:\n",
        "    \n",
        "    ax = fig.add_subplot(1, 1, 1, projection=wcs)\n",
        "    \n",
        "    moc_sdssdr16.fill(ax=ax, wcs=wcs, alpha=0.05, fill=True, color='#003f5c',label='SDSS DR16')\n",
        "    moc_sdssdr16.border(ax=ax, wcs=wcs, alpha=0.5, color='#003f5c')\n",
        "    \n",
        "    moc_jplusdr2.fill(ax=ax, wcs=wcs, alpha=0.2, fill=True, color='#ffa600',label='J-PLUS DR2')\n",
        "    moc_jplusdr2.border(ax=ax, wcs=wcs, alpha=1, color='#ffa600')\n",
        "    \n",
        "    ax.scatter(coords.ra,coords.dec,marker='o',color='#003f5c',s=3,transform=ax.get_transform('world'))\n",
        "\n",
        "ax.set_xlabel('RA',fontsize=14)\n",
        "ax.set_ylabel('DEC',fontsize=14)\n",
        "ax.legend(fontsize=18)\n",
        "plt.grid(color=\"black\", linestyle=\"dotted\")\n",
        "\n",
        "plt.show()"
      ]
    },
    {
      "cell_type": "markdown",
      "id": "cosmetic-arlington",
      "metadata": {
        "id": "cosmetic-arlington"
      },
      "source": [
        "---"
      ]
    },
    {
      "cell_type": "markdown",
      "id": "viral-wallace",
      "metadata": {
        "id": "viral-wallace"
      },
      "source": [
        "<h2><center> Query the 2MASS Catalogue by MOC </center></h2>\n",
        "    \n",
        "Without the usage of MOC, querying for sources in a specific region of the sky would be very tedious. Here, we will use the power of MOC files to query large catalogs directly in the covered regions only. We will use the MOC of the [MiniJ-PAS Public Data Release](http://www.j-pas.org/datareleases/minijpas_public_data_release_pdr201912), which covers a total area of $~\\,1\\,deg^2$, to query for sources from the 2MASS survey."
      ]
    },
    {
      "cell_type": "code",
      "execution_count": null,
      "id": "centered-australia",
      "metadata": {
        "id": "centered-australia"
      },
      "outputs": [],
      "source": [
        "moc_jpas = MOC.from_fits('/content/mini_jpas_moc.fits')"
      ]
    },
    {
      "cell_type": "code",
      "execution_count": null,
      "id": "median-killing",
      "metadata": {
        "id": "median-killing",
        "collapsed": true
      },
      "outputs": [],
      "source": [
        "fig = plt.figure(111,figsize=(15,9))\n",
        "\n",
        "with World2ScreenMPL(fig,\n",
        "                    fov = 10*u.deg,\n",
        "                    center=SkyCoord(214,52.5,unit='deg',frame='icrs'),\n",
        "                    coordsys='icrs',rotation=Angle(0, u.degree),\n",
        "                    projection='AIT') as wcs:\n",
        "    \n",
        "    ax = fig.add_subplot(1,1,1,projection=wcs)\n",
        "    \n",
        "    moc_jpas.fill(ax=ax, wcs=wcs, alpha=0.5, fill='true',color='#ffa600')\n",
        "    moc_jpas.border(ax=ax, wcs=wcs, alpha=0.8,color='#ffa600')\n",
        "    \n",
        "ax.set_xlabel('RA',fontsize=16)\n",
        "ax.set_ylabel('DEC',fontsize=16)\n",
        "plt.title('Sky coverage of MiniJ-PAS Public Data Release',fontsize=18)\n",
        "plt.grid(color='black',linestyle='dotted')\n",
        "\n",
        "plt.show()"
      ]
    },
    {
      "cell_type": "markdown",
      "id": "manufactured-kidney",
      "metadata": {
        "id": "manufactured-kidney"
      },
      "source": [
        "To search for the table from the 2MASS survey containing the desired information, we will use the TAP protocol with the VizieR endpoint.\n",
        "\n",
        "Through the VizieR TAP endpoint, we can explore the VizieR associated data service to search for tables, content of tables or information on data associated to the existing catalogues."
      ]
    },
    {
      "cell_type": "code",
      "execution_count": null,
      "id": "desperate-france",
      "metadata": {
        "id": "desperate-france",
        "collapsed": true
      },
      "outputs": [],
      "source": [
        "tap_vizier = pyvo.dal.TAPService('http://tapvizier.u-strasbg.fr/TAPVizieR/tap')\n",
        "\n",
        "query = '''\n",
        "SELECT  *  FROM tap_schema.tables \n",
        "WHERE description LIKE '2MASS %source%'\n",
        "'''\n",
        "\n",
        "twomass_tables = tap_vizier.search(query).to_table()\n",
        "twomass_tables"
      ]
    },
    {
      "cell_type": "markdown",
      "id": "located-continent",
      "metadata": {
        "id": "located-continent"
      },
      "source": [
        "The table we are looking for is `II/246/out`, which stores the 2MASS Point Source Catalog. We can query this table to have a look at its content."
      ]
    },
    {
      "cell_type": "code",
      "execution_count": null,
      "id": "paperback-director",
      "metadata": {
        "id": "paperback-director",
        "collapsed": true
      },
      "outputs": [],
      "source": [
        "query = '''\n",
        "SELECT Top 5 * FROM \"II/246/out\" \n",
        "'''\n",
        "\n",
        "twomass_source_table = tap_vizier.search(query).to_table()\n",
        "twomass_source_table"
      ]
    },
    {
      "cell_type": "markdown",
      "id": "later-audit",
      "metadata": {
        "id": "later-audit"
      },
      "source": [
        "***Exercise 4:*** *Another way to search for the 2MASS catalogues available on VizieR is to use the `Vizier` module in the `astroquery` package, as we did before. Find the desired table `II/246/out` using this module.*"
      ]
    },
    {
      "cell_type": "code",
      "execution_count": null,
      "id": "gentle-percentage",
      "metadata": {
        "id": "gentle-percentage",
        "cellView": "form",
        "collapsed": true
      },
      "outputs": [],
      "source": [
        "#@title\n",
        "catalog_list_twomass = Vizier.find_catalogs('2MASS source')\n",
        "for k, v in catalog_list_twomass.items():\n",
        "    print(k, ': ', v.description)\n",
        "\n",
        "warnings.filterwarnings('ignore')"
      ]
    },
    {
      "cell_type": "code",
      "execution_count": null,
      "id": "express-rings",
      "metadata": {
        "id": "express-rings",
        "cellView": "form",
        "collapsed": true
      },
      "outputs": [],
      "source": [
        "#@title\n",
        "table_list_twomass = Vizier.get_catalogs('II/246')\n",
        "\n",
        "print(table_list_twomass)"
      ]
    },
    {
      "cell_type": "markdown",
      "id": "fifteen-opera",
      "metadata": {
        "id": "fifteen-opera"
      },
      "source": [
        "Once we have found the target table `II/246/out`, we can use the `query_vizier_table` MOCPy method to query this table and search for sources in the coverage of the MOC instance."
      ]
    },
    {
      "cell_type": "code",
      "execution_count": null,
      "id": "controlled-convenience",
      "metadata": {
        "id": "controlled-convenience",
        "collapsed": true
      },
      "outputs": [],
      "source": [
        "twomass_sources = moc_jpas.query_vizier_table('II/246/out')\n",
        "\n",
        "twomass_sources"
      ]
    },
    {
      "cell_type": "markdown",
      "id": "juvenile-lighting",
      "metadata": {
        "id": "juvenile-lighting"
      },
      "source": [
        "As seen below, the search has been performed accurately throughout the entire sky coverage of MiniJ-PAS Public Data Release."
      ]
    },
    {
      "cell_type": "code",
      "execution_count": null,
      "id": "mediterranean-payroll",
      "metadata": {
        "id": "mediterranean-payroll",
        "collapsed": true
      },
      "outputs": [],
      "source": [
        "coords = SkyCoord(twomass_sources['RAJ2000'].data,twomass_sources['DEJ2000'].data,frame=\"icrs\", unit=\"deg\")\n",
        "\n",
        "fig = plt.figure(111,figsize=(15,9))\n",
        "\n",
        "with World2ScreenMPL(fig,\n",
        "                    fov = 6*u.deg,\n",
        "                    center=SkyCoord(214,52.5,unit='deg',frame='icrs'),\n",
        "                    coordsys='icrs',rotation=Angle(0, u.degree),\n",
        "                    projection='AIT') as wcs:\n",
        "    \n",
        "    ax = fig.add_subplot(1,1,1,projection=wcs)\n",
        "    \n",
        "    moc_jpas.fill(ax=ax, wcs=wcs, alpha=0.2, fill='true',color='#ffa600')\n",
        "    moc_jpas.border(ax=ax, wcs=wcs, alpha=1,color='#ffa600')\n",
        "    \n",
        "\n",
        "ax.scatter(twomass_sources['RAJ2000'],twomass_sources['DEJ2000'],marker='o',s=1,c='#003f5c',transform=ax.get_transform('world'))\n",
        "\n",
        "ax.set_xlabel('RA',fontsize=16)\n",
        "ax.set_ylabel('DEC',fontsize=16)\n",
        "plt.grid(color='black',linestyle='dotted')\n",
        "\n",
        "plt.show()"
      ]
    }
  ],
  "metadata": {
    "kernelspec": {
      "display_name": "Python 3",
      "language": "python",
      "name": "python3"
    },
    "language_info": {
      "codemirror_mode": {
        "name": "ipython",
        "version": 3
      },
      "file_extension": ".py",
      "mimetype": "text/x-python",
      "name": "python",
      "nbconvert_exporter": "python",
      "pygments_lexer": "ipython3",
      "version": "3.8.6"
    },
    "colab": {
      "provenance": [],
      "include_colab_link": true
    }
  },
  "nbformat": 4,
  "nbformat_minor": 5
}